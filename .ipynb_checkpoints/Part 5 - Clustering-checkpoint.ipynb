{
 "cells": [
  {
   "cell_type": "markdown",
   "metadata": {},
   "source": [
    "# Introduction\n",
    "## Transductive vs Inductive"
   ]
  },
  {
   "cell_type": "markdown",
   "metadata": {},
   "source": [
    "L'inférence transductive est dérivée des cas d'apprentissage observés qui correspondent à des cas de test spécifiques. L'inférence inductive est dérivée de cas d'apprentissage qui correspondent à des règles générales qui ne sont ensuite appliquées qu'aux cas de test.  \n",
    "\n",
    "Un exemple : imaginez que vous avez un ensemble de données qui n'est que partiellement étiqueté. Certaines choses sont des 'enregistrements', d'autres des 'cds' et d'autres sont vierges. Votre travail consiste à fournir des étiquettes pour les blancs. Si vous choisissez une approche inductive, vous entraîneriez un modèle à la recherche de « records » et « cds », et appliqueriez ces étiquettes à vos données non étiquetées. Cette approche aura du mal à classer les choses qui sont en fait des « cassettes ». Une approche transductive, en revanche, gère plus efficacement ces données inconnues car elle permet de regrouper des éléments similaires, puis d'appliquer une étiquette à un groupe. Dans ce cas, les clusters peuvent refléter des « choses musicales rondes » et des « choses musicales carrées »."
   ]
  },
  {
   "cell_type": "code",
   "execution_count": null,
   "metadata": {},
   "outputs": [],
   "source": []
  }
 ],
 "metadata": {
  "kernelspec": {
   "display_name": "Python 3",
   "language": "python",
   "name": "python3"
  },
  "language_info": {
   "codemirror_mode": {
    "name": "ipython",
    "version": 3
   },
   "file_extension": ".py",
   "mimetype": "text/x-python",
   "name": "python",
   "nbconvert_exporter": "python",
   "pygments_lexer": "ipython3",
   "version": "3.7.6"
  }
 },
 "nbformat": 4,
 "nbformat_minor": 4
}
