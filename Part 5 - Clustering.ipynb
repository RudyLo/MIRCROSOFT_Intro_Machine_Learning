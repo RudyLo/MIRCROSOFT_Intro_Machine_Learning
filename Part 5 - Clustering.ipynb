{
 "cells": [
  {
   "cell_type": "markdown",
   "metadata": {},
   "source": [
    "# I. Introduction\n",
    "## Transductive vs Inductive"
   ]
  },
  {
   "cell_type": "markdown",
   "metadata": {},
   "source": [
    "L'inférence transductive est dérivée des cas d'apprentissage observés qui correspondent à des cas de test spécifiques. L'inférence inductive est dérivée de cas d'apprentissage qui correspondent à des règles générales qui ne sont ensuite appliquées qu'aux cas de test.  \n",
    "\n",
    "Un exemple : imaginez que vous avez un ensemble de données qui n'est que partiellement étiqueté. Certaines choses sont des 'enregistrements', d'autres des 'cds' et d'autres sont vierges. Votre travail consiste à fournir des étiquettes pour les blancs. Si vous choisissez une approche inductive, vous entraîneriez un modèle à la recherche de « records » et « cds », et appliqueriez ces étiquettes à vos données non étiquetées. Cette approche aura du mal à classer les choses qui sont en fait des « cassettes ». Une approche transductive, en revanche, gère plus efficacement ces données inconnues car elle permet de regrouper des éléments similaires, puis d'appliquer une étiquette à un groupe. Dans ce cas, les clusters peuvent refléter des « choses musicales rondes » et des « choses musicales carrées »."
   ]
  },
  {
   "cell_type": "markdown",
   "metadata": {},
   "source": [
    "## Non flat vs flat"
   ]
  },
  {
   "cell_type": "markdown",
   "metadata": {},
   "source": [
    "Dérivée de la terminologie mathématique, la géométrie non plate par rapport à la géométrie plate fait référence à la mesure des distances entre les points par des méthodes géométriques « plates » (euclidiennes) ou « non plates » (non euclidiennes).  \n",
    "\n",
    "« Plat » dans ce contexte fait référence à la géométrie euclidienne (dont certaines parties sont enseignées en tant que géométrie « plane »), et non-plat fait référence à la géométrie non-euclidienne. Qu'est-ce que la géométrie a à voir avec l'apprentissage automatique ? Eh bien, en tant que deux domaines enracinés dans les mathématiques, il doit y avoir un moyen commun de mesurer les distances entre les points dans les clusters, et cela peut être fait de manière \"plate\" ou \"non plate\", selon la nature des données . Les distances euclidiennes sont mesurées comme la longueur d'un segment de ligne entre deux points. Les distances non euclidiennes sont mesurées le long d'une courbe. Si vos données, visualisées, semblent ne pas exister dans un avion, vous devrez peut-être utiliser un algorithme spécialisé pour les gérer."
   ]
  },
  {
   "cell_type": "markdown",
   "metadata": {},
   "source": [
    "## Distances\n",
    "\n",
    "Les clusters sont définis par leur matrice de distance, par ex. les distances entre les points. Cette distance peut être mesurée de plusieurs manières. Les clusters euclidiens sont définis par la moyenne des valeurs des points et contiennent un « centre de gravité » ou un point central. Les distances sont ainsi mesurées par la distance à ce centroïde. Les distances non-euclidiennes se réfèrent aux « clusters », le point le plus proche des autres points. Les clusters à leur tour peuvent être définis de diverses manières.\n"
   ]
  },
  {
   "cell_type": "markdown",
   "metadata": {},
   "source": [
    "## Contraintes\n",
    "\n",
    "Le clustering contraint introduit l'apprentissage « semi-supervisé » dans cette méthode non supervisée. Les relations entre les points sont signalées comme « impossible à lier » ou « à lier obligatoirement », de sorte que certaines règles sont imposées sur l'ensemble de données.  \n",
    "\n",
    "Un exemple : si un algorithme est libéré sur un lot de données non étiquetées ou semi-étiquetées, les clusters qu'il produit peuvent être de mauvaise qualité. Dans l'exemple ci-dessus, les clusters peuvent regrouper les « choses musicales rondes » et les « choses musicales carrées » et les « choses triangulaires » et les « cookies ». Si certaines contraintes ou règles à suivre (\"l'article doit être en plastique\", \"l'article doit être capable de produire de la musique\"), cela peut aider à \"contraindre\" l'algorithme à faire de meilleurs choix."
   ]
  },
  {
   "cell_type": "markdown",
   "metadata": {},
   "source": [
    "## Densité\n",
    "\n",
    "Les données « bruyantes » sont considérées comme « denses ». Les distances entre les points de chacun de ses clusters peuvent s'avérer, à l'examen, plus ou moins denses, ou « encombrées » et ces données doivent donc être analysées avec la méthode de clustering appropriée. Cet article démontre la différence entre l'utilisation des algorithmes de clustering K-Means et HDBSCAN pour explorer un ensemble de données bruyant avec une densité de cluster inégale.\n"
   ]
  },
  {
   "cell_type": "markdown",
   "metadata": {},
   "source": [
    "# II. Algorithme de clustering"
   ]
  },
  {
   "cell_type": "markdown",
   "metadata": {},
   "source": [
    "## Hierarchical clustering\n",
    "\n",
    "Si un objet est classé en fonction de sa proximité avec un objet proche, plutôt que d'un objet plus éloigné, des clusters sont formés en fonction de la distance de leurs membres par rapport aux autres objets. Le clustering agglomeratif de Scikit-learn est hiérarchique.\n"
   ]
  },
  {
   "cell_type": "markdown",
   "metadata": {},
   "source": [
    "## Centroïds clustering\n",
    "\n",
    "Cet algorithme populaire nécessite le choix de « k », ou le nombre de clusters à former, après quoi l'algorithme détermine le point central d'un cluster et rassemble des données autour de ce point. Le clustering K-means est une version populaire du clustering centroïde. Le centre est déterminé par la moyenne la plus proche, donc le nom. La distance au carré du cluster est minimisée.\n"
   ]
  },
  {
   "cell_type": "markdown",
   "metadata": {},
   "source": [
    "## Clustering basé sur la distribution\n",
    "\n",
    "Basé sur la modélisation statistique, le clustering basé sur la distribution se concentre sur la détermination de la probabilité qu'un point de données appartienne à un cluster et sur son affectation en conséquence. Les méthodes de mélange gaussien appartiennent à ce type.\n"
   ]
  },
  {
   "cell_type": "markdown",
   "metadata": {},
   "source": [
    "## Clutering basé sur la densité \n",
    "\n",
    "Les points de données sont attribués aux clusters en fonction de leur densité ou de leur regroupement les uns autour des autres. Les points de données éloignés du groupe sont considérés comme des valeurs aberrantes ou du bruit. DBSCAN, Mean-shift et OPTICS appartiennent à ce type de clustering.\n"
   ]
  },
  {
   "cell_type": "markdown",
   "metadata": {},
   "source": [
    "## Clustering basé sur une grille \n",
    "\n",
    "Pour les jeux de données multidimensionnels, une grille est créée et les données sont réparties entre les cellules de la grille, créant ainsi des clusters."
   ]
  },
  {
   "cell_type": "markdown",
   "metadata": {},
   "source": [
    "# Exercices"
   ]
  },
  {
   "cell_type": "code",
   "execution_count": 3,
   "metadata": {},
   "outputs": [
    {
     "data": {
      "text/html": [
       "<div>\n",
       "<style scoped>\n",
       "    .dataframe tbody tr th:only-of-type {\n",
       "        vertical-align: middle;\n",
       "    }\n",
       "\n",
       "    .dataframe tbody tr th {\n",
       "        vertical-align: top;\n",
       "    }\n",
       "\n",
       "    .dataframe thead th {\n",
       "        text-align: right;\n",
       "    }\n",
       "</style>\n",
       "<table border=\"1\" class=\"dataframe\">\n",
       "  <thead>\n",
       "    <tr style=\"text-align: right;\">\n",
       "      <th></th>\n",
       "      <th>name</th>\n",
       "      <th>album</th>\n",
       "      <th>artist</th>\n",
       "      <th>artist_top_genre</th>\n",
       "      <th>release_date</th>\n",
       "      <th>length</th>\n",
       "      <th>popularity</th>\n",
       "      <th>danceability</th>\n",
       "      <th>acousticness</th>\n",
       "      <th>energy</th>\n",
       "      <th>instrumentalness</th>\n",
       "      <th>liveness</th>\n",
       "      <th>loudness</th>\n",
       "      <th>speechiness</th>\n",
       "      <th>tempo</th>\n",
       "      <th>time_signature</th>\n",
       "    </tr>\n",
       "  </thead>\n",
       "  <tbody>\n",
       "    <tr>\n",
       "      <th>0</th>\n",
       "      <td>Sparky</td>\n",
       "      <td>Mandy &amp; The Jungle</td>\n",
       "      <td>Cruel Santino</td>\n",
       "      <td>alternative r&amp;b</td>\n",
       "      <td>2019</td>\n",
       "      <td>144000</td>\n",
       "      <td>48</td>\n",
       "      <td>0.666</td>\n",
       "      <td>0.8510</td>\n",
       "      <td>0.420</td>\n",
       "      <td>0.534000</td>\n",
       "      <td>0.1100</td>\n",
       "      <td>-6.699</td>\n",
       "      <td>0.0829</td>\n",
       "      <td>133.015</td>\n",
       "      <td>5</td>\n",
       "    </tr>\n",
       "    <tr>\n",
       "      <th>1</th>\n",
       "      <td>shuga rush</td>\n",
       "      <td>EVERYTHING YOU HEARD IS TRUE</td>\n",
       "      <td>Odunsi (The Engine)</td>\n",
       "      <td>afropop</td>\n",
       "      <td>2020</td>\n",
       "      <td>89488</td>\n",
       "      <td>30</td>\n",
       "      <td>0.710</td>\n",
       "      <td>0.0822</td>\n",
       "      <td>0.683</td>\n",
       "      <td>0.000169</td>\n",
       "      <td>0.1010</td>\n",
       "      <td>-5.640</td>\n",
       "      <td>0.3600</td>\n",
       "      <td>129.993</td>\n",
       "      <td>3</td>\n",
       "    </tr>\n",
       "    <tr>\n",
       "      <th>2</th>\n",
       "      <td>LITT!</td>\n",
       "      <td>LITT!</td>\n",
       "      <td>AYLØ</td>\n",
       "      <td>indie r&amp;b</td>\n",
       "      <td>2018</td>\n",
       "      <td>207758</td>\n",
       "      <td>40</td>\n",
       "      <td>0.836</td>\n",
       "      <td>0.2720</td>\n",
       "      <td>0.564</td>\n",
       "      <td>0.000537</td>\n",
       "      <td>0.1100</td>\n",
       "      <td>-7.127</td>\n",
       "      <td>0.0424</td>\n",
       "      <td>130.005</td>\n",
       "      <td>4</td>\n",
       "    </tr>\n",
       "    <tr>\n",
       "      <th>3</th>\n",
       "      <td>Confident / Feeling Cool</td>\n",
       "      <td>Enjoy Your Life</td>\n",
       "      <td>Lady Donli</td>\n",
       "      <td>nigerian pop</td>\n",
       "      <td>2019</td>\n",
       "      <td>175135</td>\n",
       "      <td>14</td>\n",
       "      <td>0.894</td>\n",
       "      <td>0.7980</td>\n",
       "      <td>0.611</td>\n",
       "      <td>0.000187</td>\n",
       "      <td>0.0964</td>\n",
       "      <td>-4.961</td>\n",
       "      <td>0.1130</td>\n",
       "      <td>111.087</td>\n",
       "      <td>4</td>\n",
       "    </tr>\n",
       "    <tr>\n",
       "      <th>4</th>\n",
       "      <td>wanted you</td>\n",
       "      <td>rare.</td>\n",
       "      <td>Odunsi (The Engine)</td>\n",
       "      <td>afropop</td>\n",
       "      <td>2018</td>\n",
       "      <td>152049</td>\n",
       "      <td>25</td>\n",
       "      <td>0.702</td>\n",
       "      <td>0.1160</td>\n",
       "      <td>0.833</td>\n",
       "      <td>0.910000</td>\n",
       "      <td>0.3480</td>\n",
       "      <td>-6.044</td>\n",
       "      <td>0.0447</td>\n",
       "      <td>105.115</td>\n",
       "      <td>4</td>\n",
       "    </tr>\n",
       "  </tbody>\n",
       "</table>\n",
       "</div>"
      ],
      "text/plain": [
       "                       name                         album  \\\n",
       "0                    Sparky            Mandy & The Jungle   \n",
       "1                shuga rush  EVERYTHING YOU HEARD IS TRUE   \n",
       "2                     LITT!                         LITT!   \n",
       "3  Confident / Feeling Cool               Enjoy Your Life   \n",
       "4                wanted you                         rare.   \n",
       "\n",
       "                artist artist_top_genre  release_date  length  popularity  \\\n",
       "0        Cruel Santino  alternative r&b          2019  144000          48   \n",
       "1  Odunsi (The Engine)          afropop          2020   89488          30   \n",
       "2                 AYLØ        indie r&b          2018  207758          40   \n",
       "3           Lady Donli     nigerian pop          2019  175135          14   \n",
       "4  Odunsi (The Engine)          afropop          2018  152049          25   \n",
       "\n",
       "   danceability  acousticness  energy  instrumentalness  liveness  loudness  \\\n",
       "0         0.666        0.8510   0.420          0.534000    0.1100    -6.699   \n",
       "1         0.710        0.0822   0.683          0.000169    0.1010    -5.640   \n",
       "2         0.836        0.2720   0.564          0.000537    0.1100    -7.127   \n",
       "3         0.894        0.7980   0.611          0.000187    0.0964    -4.961   \n",
       "4         0.702        0.1160   0.833          0.910000    0.3480    -6.044   \n",
       "\n",
       "   speechiness    tempo  time_signature  \n",
       "0       0.0829  133.015               5  \n",
       "1       0.3600  129.993               3  \n",
       "2       0.0424  130.005               4  \n",
       "3       0.1130  111.087               4  \n",
       "4       0.0447  105.115               4  "
      ]
     },
     "execution_count": 3,
     "metadata": {},
     "output_type": "execute_result"
    }
   ],
   "source": [
    "#Import du fichier csv\n",
    "import matplotlib.pyplot as plt\n",
    "import pandas as pd\n",
    "\n",
    "df = pd.read_csv(\"nigerian-songs.csv\")\n",
    "df.head()"
   ]
  },
  {
   "cell_type": "code",
   "execution_count": 2,
   "metadata": {},
   "outputs": [
    {
     "name": "stdout",
     "output_type": "stream",
     "text": [
      "<class 'pandas.core.frame.DataFrame'>\n",
      "RangeIndex: 530 entries, 0 to 529\n",
      "Data columns (total 16 columns):\n",
      " #   Column            Non-Null Count  Dtype  \n",
      "---  ------            --------------  -----  \n",
      " 0   name              530 non-null    object \n",
      " 1   album             530 non-null    object \n",
      " 2   artist            530 non-null    object \n",
      " 3   artist_top_genre  530 non-null    object \n",
      " 4   release_date      530 non-null    int64  \n",
      " 5   length            530 non-null    int64  \n",
      " 6   popularity        530 non-null    int64  \n",
      " 7   danceability      530 non-null    float64\n",
      " 8   acousticness      530 non-null    float64\n",
      " 9   energy            530 non-null    float64\n",
      " 10  instrumentalness  530 non-null    float64\n",
      " 11  liveness          530 non-null    float64\n",
      " 12  loudness          530 non-null    float64\n",
      " 13  speechiness       530 non-null    float64\n",
      " 14  tempo             530 non-null    float64\n",
      " 15  time_signature    530 non-null    int64  \n",
      "dtypes: float64(8), int64(4), object(4)\n",
      "memory usage: 66.4+ KB\n"
     ]
    }
   ],
   "source": [
    "df.info()\n"
   ]
  },
  {
   "cell_type": "code",
   "execution_count": 4,
   "metadata": {},
   "outputs": [
    {
     "data": {
      "text/plain": [
       "name                0\n",
       "album               0\n",
       "artist              0\n",
       "artist_top_genre    0\n",
       "release_date        0\n",
       "length              0\n",
       "popularity          0\n",
       "danceability        0\n",
       "acousticness        0\n",
       "energy              0\n",
       "instrumentalness    0\n",
       "liveness            0\n",
       "loudness            0\n",
       "speechiness         0\n",
       "tempo               0\n",
       "time_signature      0\n",
       "dtype: int64"
      ]
     },
     "execution_count": 4,
     "metadata": {},
     "output_type": "execute_result"
    }
   ],
   "source": [
    "#On chech les valeurs nulles\n",
    "df.isnull().sum()"
   ]
  },
  {
   "cell_type": "code",
   "execution_count": 5,
   "metadata": {},
   "outputs": [
    {
     "data": {
      "text/html": [
       "<div>\n",
       "<style scoped>\n",
       "    .dataframe tbody tr th:only-of-type {\n",
       "        vertical-align: middle;\n",
       "    }\n",
       "\n",
       "    .dataframe tbody tr th {\n",
       "        vertical-align: top;\n",
       "    }\n",
       "\n",
       "    .dataframe thead th {\n",
       "        text-align: right;\n",
       "    }\n",
       "</style>\n",
       "<table border=\"1\" class=\"dataframe\">\n",
       "  <thead>\n",
       "    <tr style=\"text-align: right;\">\n",
       "      <th></th>\n",
       "      <th>release_date</th>\n",
       "      <th>length</th>\n",
       "      <th>popularity</th>\n",
       "      <th>danceability</th>\n",
       "      <th>acousticness</th>\n",
       "      <th>energy</th>\n",
       "      <th>instrumentalness</th>\n",
       "      <th>liveness</th>\n",
       "      <th>loudness</th>\n",
       "      <th>speechiness</th>\n",
       "      <th>tempo</th>\n",
       "      <th>time_signature</th>\n",
       "    </tr>\n",
       "  </thead>\n",
       "  <tbody>\n",
       "    <tr>\n",
       "      <th>count</th>\n",
       "      <td>530.000000</td>\n",
       "      <td>530.000000</td>\n",
       "      <td>530.000000</td>\n",
       "      <td>530.000000</td>\n",
       "      <td>530.000000</td>\n",
       "      <td>530.000000</td>\n",
       "      <td>530.000000</td>\n",
       "      <td>530.000000</td>\n",
       "      <td>530.000000</td>\n",
       "      <td>530.000000</td>\n",
       "      <td>530.000000</td>\n",
       "      <td>530.000000</td>\n",
       "    </tr>\n",
       "    <tr>\n",
       "      <th>mean</th>\n",
       "      <td>2015.390566</td>\n",
       "      <td>222298.169811</td>\n",
       "      <td>17.507547</td>\n",
       "      <td>0.741619</td>\n",
       "      <td>0.265412</td>\n",
       "      <td>0.760623</td>\n",
       "      <td>0.016305</td>\n",
       "      <td>0.147308</td>\n",
       "      <td>-4.953011</td>\n",
       "      <td>0.130748</td>\n",
       "      <td>116.487864</td>\n",
       "      <td>3.986792</td>\n",
       "    </tr>\n",
       "    <tr>\n",
       "      <th>std</th>\n",
       "      <td>3.131688</td>\n",
       "      <td>39696.822259</td>\n",
       "      <td>18.992212</td>\n",
       "      <td>0.117522</td>\n",
       "      <td>0.208342</td>\n",
       "      <td>0.148533</td>\n",
       "      <td>0.090321</td>\n",
       "      <td>0.123588</td>\n",
       "      <td>2.464186</td>\n",
       "      <td>0.092939</td>\n",
       "      <td>23.518601</td>\n",
       "      <td>0.333701</td>\n",
       "    </tr>\n",
       "    <tr>\n",
       "      <th>min</th>\n",
       "      <td>1998.000000</td>\n",
       "      <td>89488.000000</td>\n",
       "      <td>0.000000</td>\n",
       "      <td>0.255000</td>\n",
       "      <td>0.000665</td>\n",
       "      <td>0.111000</td>\n",
       "      <td>0.000000</td>\n",
       "      <td>0.028300</td>\n",
       "      <td>-19.362000</td>\n",
       "      <td>0.027800</td>\n",
       "      <td>61.695000</td>\n",
       "      <td>3.000000</td>\n",
       "    </tr>\n",
       "    <tr>\n",
       "      <th>25%</th>\n",
       "      <td>2014.000000</td>\n",
       "      <td>199305.000000</td>\n",
       "      <td>0.000000</td>\n",
       "      <td>0.681000</td>\n",
       "      <td>0.089525</td>\n",
       "      <td>0.669000</td>\n",
       "      <td>0.000000</td>\n",
       "      <td>0.075650</td>\n",
       "      <td>-6.298750</td>\n",
       "      <td>0.059100</td>\n",
       "      <td>102.961250</td>\n",
       "      <td>4.000000</td>\n",
       "    </tr>\n",
       "    <tr>\n",
       "      <th>50%</th>\n",
       "      <td>2016.000000</td>\n",
       "      <td>218509.000000</td>\n",
       "      <td>13.000000</td>\n",
       "      <td>0.761000</td>\n",
       "      <td>0.220500</td>\n",
       "      <td>0.784500</td>\n",
       "      <td>0.000004</td>\n",
       "      <td>0.103500</td>\n",
       "      <td>-4.558500</td>\n",
       "      <td>0.097950</td>\n",
       "      <td>112.714500</td>\n",
       "      <td>4.000000</td>\n",
       "    </tr>\n",
       "    <tr>\n",
       "      <th>75%</th>\n",
       "      <td>2017.000000</td>\n",
       "      <td>242098.500000</td>\n",
       "      <td>31.000000</td>\n",
       "      <td>0.829500</td>\n",
       "      <td>0.403000</td>\n",
       "      <td>0.875750</td>\n",
       "      <td>0.000234</td>\n",
       "      <td>0.164000</td>\n",
       "      <td>-3.331000</td>\n",
       "      <td>0.177000</td>\n",
       "      <td>125.039250</td>\n",
       "      <td>4.000000</td>\n",
       "    </tr>\n",
       "    <tr>\n",
       "      <th>max</th>\n",
       "      <td>2020.000000</td>\n",
       "      <td>511738.000000</td>\n",
       "      <td>73.000000</td>\n",
       "      <td>0.966000</td>\n",
       "      <td>0.954000</td>\n",
       "      <td>0.995000</td>\n",
       "      <td>0.910000</td>\n",
       "      <td>0.811000</td>\n",
       "      <td>0.582000</td>\n",
       "      <td>0.514000</td>\n",
       "      <td>206.007000</td>\n",
       "      <td>5.000000</td>\n",
       "    </tr>\n",
       "  </tbody>\n",
       "</table>\n",
       "</div>"
      ],
      "text/plain": [
       "       release_date         length  popularity  danceability  acousticness  \\\n",
       "count    530.000000     530.000000  530.000000    530.000000    530.000000   \n",
       "mean    2015.390566  222298.169811   17.507547      0.741619      0.265412   \n",
       "std        3.131688   39696.822259   18.992212      0.117522      0.208342   \n",
       "min     1998.000000   89488.000000    0.000000      0.255000      0.000665   \n",
       "25%     2014.000000  199305.000000    0.000000      0.681000      0.089525   \n",
       "50%     2016.000000  218509.000000   13.000000      0.761000      0.220500   \n",
       "75%     2017.000000  242098.500000   31.000000      0.829500      0.403000   \n",
       "max     2020.000000  511738.000000   73.000000      0.966000      0.954000   \n",
       "\n",
       "           energy  instrumentalness    liveness    loudness  speechiness  \\\n",
       "count  530.000000        530.000000  530.000000  530.000000   530.000000   \n",
       "mean     0.760623          0.016305    0.147308   -4.953011     0.130748   \n",
       "std      0.148533          0.090321    0.123588    2.464186     0.092939   \n",
       "min      0.111000          0.000000    0.028300  -19.362000     0.027800   \n",
       "25%      0.669000          0.000000    0.075650   -6.298750     0.059100   \n",
       "50%      0.784500          0.000004    0.103500   -4.558500     0.097950   \n",
       "75%      0.875750          0.000234    0.164000   -3.331000     0.177000   \n",
       "max      0.995000          0.910000    0.811000    0.582000     0.514000   \n",
       "\n",
       "            tempo  time_signature  \n",
       "count  530.000000      530.000000  \n",
       "mean   116.487864        3.986792  \n",
       "std     23.518601        0.333701  \n",
       "min     61.695000        3.000000  \n",
       "25%    102.961250        4.000000  \n",
       "50%    112.714500        4.000000  \n",
       "75%    125.039250        4.000000  \n",
       "max    206.007000        5.000000  "
      ]
     },
     "execution_count": 5,
     "metadata": {},
     "output_type": "execute_result"
    }
   ],
   "source": [
    "df.describe()"
   ]
  },
  {
   "cell_type": "markdown",
   "metadata": {},
   "source": [
    "Si nous travaillons avec le clustering, une méthode non supervisée qui ne nécessite pas de données étiquetées, pourquoi montrons-nous ces données avec des étiquettes ? Dans la phase d'exploration des données, ils sont utiles, mais ils ne sont pas nécessaires au fonctionnement des algorithmes de clustering. Vous pouvez tout aussi bien supprimer les en-têtes de colonnes et faire référence aux données par numéro de colonne."
   ]
  },
  {
   "cell_type": "code",
   "execution_count": 6,
   "metadata": {},
   "outputs": [
    {
     "data": {
      "text/plain": [
       "Text(0.5, 1.0, 'Top genres')"
      ]
     },
     "execution_count": 6,
     "metadata": {},
     "output_type": "execute_result"
    },
    {
     "data": {
      "image/png": "[encoded data removed]",
      "text/plain": [
       "<Figure size 720x504 with 1 Axes>"
      ]
     },
     "metadata": {
      "needs_background": "light"
     },
     "output_type": "display_data"
    }
   ],
   "source": [
    "#On créer un graphe de barres dans le but de trouver le genre le plus populaire\n",
    "import seaborn as sns\n",
    "\n",
    "top = df['artist_top_genre'].value_counts()\n",
    "plt.figure(figsize=(10,7))\n",
    "sns.barplot(x=top[:5].index,y=top[:5].values)\n",
    "plt.xticks(rotation=45)\n",
    "plt.title('Top genres',color = 'blue')"
   ]
  },
  {
   "cell_type": "code",
   "execution_count": 8,
   "metadata": {},
   "outputs": [
    {
     "data": {
      "text/plain": [
       "Text(0.5, 1.0, 'Top genres')"
      ]
     },
     "execution_count": 8,
     "metadata": {},
     "output_type": "execute_result"
    },
    {
     "data": {
      "image/png": "[encoded data removed]",
      "text/plain": [
       "<Figure size 720x504 with 1 Axes>"
      ]
     },
     "metadata": {
      "needs_background": "light"
     },
     "output_type": "display_data"
    }
   ],
   "source": [
    "# On filtre les données manquantes et on les retires du jeu de données\n",
    "df = df[df['artist_top_genre'] != 'Missing']\n",
    "top = df['artist_top_genre'].value_counts()\n",
    "plt.figure(figsize=(10,7))\n",
    "sns.barplot(x=top.index,y=top.values)\n",
    "plt.xticks(rotation=45)\n",
    "plt.title('Top genres',color = 'blue')"
   ]
  },
  {
   "cell_type": "code",
   "execution_count": 9,
   "metadata": {},
   "outputs": [
    {
     "data": {
      "text/plain": [
       "Text(0.5, 1.0, 'Top genres')"
      ]
     },
     "execution_count": 9,
     "metadata": {},
     "output_type": "execute_result"
    },
    {
     "data": {
      "image/png": "[encoded data removed]",
      "text/plain": [
       "<Figure size 720x504 with 1 Axes>"
      ]
     },
     "metadata": {
      "needs_background": "light"
     },
     "output_type": "display_data"
    }
   ],
   "source": [
    "df = df[(df['artist_top_genre'] == 'afro dancehall') | (df['artist_top_genre'] == 'afropop') | (df['artist_top_genre'] == 'nigerian pop')]\n",
    "df = df[(df['popularity'] > 0)]\n",
    "top = df['artist_top_genre'].value_counts()\n",
    "plt.figure(figsize=(10,7))\n",
    "sns.barplot(x=top.index,y=top.values)\n",
    "plt.xticks(rotation=45)\n",
    "plt.title('Top genres',color = 'blue')"
   ]
  },
  {
   "cell_type": "markdown",
   "metadata": {},
   "source": [
    "De loin, les trois principaux genres dominent cet ensemble de données. Concentrons-nous sur l'afro dancehall, l'afropop et la pop nigériane, filtrez également l'ensemble de données pour supprimer tout ce qui a une valeur de popularité de 0 (ce qui signifie qu'il n'a pas été classé avec une popularité dans l'ensemble de données et peut être considéré comme du bruit pour nos besoins) :\n"
   ]
  },
  {
   "cell_type": "code",
   "execution_count": 10,
   "metadata": {},
   "outputs": [
    {
     "data": {
      "text/plain": [
       "<matplotlib.axes._subplots.AxesSubplot at 0x26c459fe948>"
      ]
     },
     "execution_count": 10,
     "metadata": {},
     "output_type": "execute_result"
    },
    {
     "data": {
      "image/png": "[encoded data removed]",
      "text/plain": [
       "<Figure size 864x648 with 2 Axes>"
      ]
     },
     "metadata": {
      "needs_background": "light"
     },
     "output_type": "display_data"
    }
   ],
   "source": [
    "#On cherche si nos données sont corrélées\n",
    "corrmat = df.corr()\n",
    "f, ax = plt.subplots(figsize=(12, 9))\n",
    "sns.heatmap(corrmat, vmax=.8, square=True)"
   ]
  },
  {
   "cell_type": "markdown",
   "metadata": {},
   "source": [
    "\n",
    "La seule forte corrélation est entre l'énergie et le volume, ce qui n'est pas trop surprenant, étant donné que la musique forte est généralement assez énergique. Sinon, les corrélations sont relativement faibles."
   ]
  },
  {
   "cell_type": "code",
   "execution_count": null,
   "metadata": {},
   "outputs": [],
   "source": []
  }
 ],
 "metadata": {
  "kernelspec": {
   "display_name": "Python 3",
   "language": "python",
   "name": "python3"
  },
  "language_info": {
   "codemirror_mode": {
    "name": "ipython",
    "version": 3
   },
   "file_extension": ".py",
   "mimetype": "text/x-python",
   "name": "python",
   "nbconvert_exporter": "python",
   "pygments_lexer": "ipython3",
   "version": "3.7.6"
  }
 },
 "nbformat": 4,
 "nbformat_minor": 4
}
