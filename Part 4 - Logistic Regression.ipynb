{
 "cells": [
  {
   "cell_type": "markdown",
   "metadata": {},
   "source": [
    "# Mise en place des données"
   ]
  },
  {
   "cell_type": "code",
   "execution_count": 3,
   "metadata": {},
   "outputs": [],
   "source": [
    "from sklearn.preprocessing import LabelEncoder\n",
    "\n",
    "#On importe le fichier csv, et on affiche les premières données\n",
    "import pandas as pd\n",
    "pumpkins = pd.read_csv('US-pumpkins.csv')\n",
    "\n",
    "new_columns = ['Color','Origin','Item Size','Variety','City Name','Package']\n",
    "\n",
    "new_pumpkins = pumpkins.drop([c for c in pumpkins.columns if c not in new_columns], axis=1)\n",
    "\n",
    "new_pumpkins.dropna(inplace=True)\n",
    "\n",
    "new_pumpkins = new_pumpkins.apply(LabelEncoder().fit_transform)"
   ]
  },
  {
   "cell_type": "code",
   "execution_count": 4,
   "metadata": {},
   "outputs": [
    {
     "data": {
      "text/plain": [
       "<bound method DataFrame.info of       City Name  Package  Variety  Origin  Item Size  Color\n",
       "2             1        3        4       3          3      0\n",
       "3             1        3        4      17          3      0\n",
       "4             1        3        4       5          2      0\n",
       "5             1        3        4       5          2      0\n",
       "6             1        4        4       5          3      0\n",
       "...         ...      ...      ...     ...        ...    ...\n",
       "1694         12        3        5       4          6      1\n",
       "1695         12        3        5       4          6      1\n",
       "1696         12        3        5       4          6      1\n",
       "1697         12        3        5       4          6      1\n",
       "1698         12        3        5       4          6      1\n",
       "\n",
       "[991 rows x 6 columns]>"
      ]
     },
     "execution_count": 4,
     "metadata": {},
     "output_type": "execute_result"
    }
   ],
   "source": [
    "new_pumpkins.info"
   ]
  },
  {
   "cell_type": "markdown",
   "metadata": {},
   "source": [
    "# Visualisation des données\n",
    "\n",
    "Utilisation de Seaborn qui permet par exemple de comparer la distribution de données pour chaque point dans une grille."
   ]
  },
  {
   "cell_type": "code",
   "execution_count": null,
   "metadata": {},
   "outputs": [],
   "source": []
  }
 ],
 "metadata": {
  "kernelspec": {
   "display_name": "Python 3",
   "language": "python",
   "name": "python3"
  },
  "language_info": {
   "codemirror_mode": {
    "name": "ipython",
    "version": 3
   },
   "file_extension": ".py",
   "mimetype": "text/x-python",
   "name": "python",
   "nbconvert_exporter": "python",
   "pygments_lexer": "ipython3",
   "version": "3.7.6"
  }
 },
 "nbformat": 4,
 "nbformat_minor": 4
}
