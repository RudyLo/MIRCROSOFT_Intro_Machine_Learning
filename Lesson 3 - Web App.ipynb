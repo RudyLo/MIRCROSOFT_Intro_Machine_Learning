{
 "cells": [
  {
   "cell_type": "markdown",
   "metadata": {},
   "source": [
    "# Création d'application web avec utilisation de model ML\n",
    "\n",
    "## Utilisation de Flask et Pickle\n",
    "\n",
    "Défini comme un « micro-framework » par ses créateurs, Flask fournit les fonctionnalités de base des frameworks Web utilisant Python et un moteur de modèles pour créer des pages Web. Jetez un œil à ce module d'apprentissage pour vous entraîner à construire avec Flask.  \n",
    "Pickle 🥒 est un module Python qui sérialise et désérialise une structure d'objet Python. Lorsque vous \"décapez\" un modèle, vous sérialisez ou aplatissez sa structure pour une utilisation sur le Web. Soyez prudent : le pickle n'est pas intrinsèquement sécurisé, alors soyez prudent si vous êtes invité à \"décaper\" un fichier. Un fichier décapé a le suffixe .pkl.\n",
    "\n",
    "\n",
    "\n"
   ]
  }
 ],
 "metadata": {
  "kernelspec": {
   "display_name": "Python 3",
   "language": "python",
   "name": "python3"
  },
  "language_info": {
   "codemirror_mode": {
    "name": "ipython",
    "version": 3
   },
   "file_extension": ".py",
   "mimetype": "text/x-python",
   "name": "python",
   "nbconvert_exporter": "python",
   "pygments_lexer": "ipython3",
   "version": "3.7.6"
  }
 },
 "nbformat": 4,
 "nbformat_minor": 4
}
